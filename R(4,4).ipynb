{
 "cells": [
  {
   "cell_type": "code",
   "execution_count": 1,
   "id": "50307f12",
   "metadata": {},
   "outputs": [
    {
     "data": {
      "text/plain": [
       "Finite Field in c of size 2^8"
      ]
     },
     "execution_count": 1,
     "metadata": {},
     "output_type": "execute_result"
    }
   ],
   "source": [
    "n = 4\n",
    "k2.<c> = GF(2^(2*n),modulus='primitive')\n",
    "k2"
   ]
  },
  {
   "cell_type": "code",
   "execution_count": 2,
   "id": "973f2657",
   "metadata": {},
   "outputs": [
    {
     "name": "stdout",
     "output_type": "stream",
     "text": [
      "17\n"
     ]
    }
   ],
   "source": [
    "# Define inner product and multiplicative subgroup\n",
    "v = 17\n",
    "gen = c^int((2^(2*n)-1)/v)\n",
    "def ip(x,y):\n",
    "    return (y*x^(2^n)).trace()\n",
    "sub = [gen^i for i in range(v)]\n",
    "print(len(sub))"
   ]
  },
  {
   "cell_type": "code",
   "execution_count": 6,
   "id": "a7a906b0",
   "metadata": {},
   "outputs": [
    {
     "name": "stdout",
     "output_type": "stream",
     "text": [
      "17 3 3\n"
     ]
    }
   ],
   "source": [
    "# Make graph\n",
    "g = Graph([sub, lambda x,y: ip(x,y) != 0])\n",
    "print(g.order(), g.clique_number(), g.complement().clique_number())"
   ]
  }
 ],
 "metadata": {
  "kernelspec": {
   "display_name": "SageMath 9.6",
   "language": "sage",
   "name": "sagemath"
  },
  "language_info": {
   "codemirror_mode": {
    "name": "ipython",
    "version": 3
   },
   "file_extension": ".py",
   "mimetype": "text/x-python",
   "name": "python",
   "nbconvert_exporter": "python",
   "pygments_lexer": "ipython3",
   "version": "3.10.5"
  }
 },
 "nbformat": 4,
 "nbformat_minor": 5
}
