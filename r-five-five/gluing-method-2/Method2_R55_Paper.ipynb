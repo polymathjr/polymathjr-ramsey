{
 "cells": [
  {
   "cell_type": "markdown",
   "id": "12ce8b93",
   "metadata": {},
   "source": [
    "# Implementing the Second Method of the R(5, 5) Paper"
   ]
  },
  {
   "cell_type": "markdown",
   "id": "2fdc8483",
   "metadata": {},
   "source": [
    "Here is an outline of an implementation for the algorithm outlined in page 8 of the R(5, 5) paper. I've broken it up into individual pieces which may be attacked by different researchers. "
   ]
  },
  {
   "cell_type": "markdown",
   "id": "b37a468c",
   "metadata": {},
   "source": [
    "## First, methods for enumerating (r, s, t)-cliques and (r, s, t)-independent sets. "
   ]
  },
  {
   "cell_type": "markdown",
   "id": "5f16a393",
   "metadata": {},
   "source": [
    "Recall for (r, s, t)-cliques, we have (r, s, t) is either (1, 2, 2), (0, 2, 3) or (0, 3, 2)."
   ]
  },
  {
   "cell_type": "code",
   "execution_count": null,
   "id": "548107b8",
   "metadata": {},
   "outputs": [],
   "source": [
    "# Description: Defintion on page 6\n",
    "# Input: G, a (first pointed graph we are gluing) and H, b (second pointed graph we are glueing)\n",
    "# Output: A list of all the (r, s, t) cliques. \n",
    "def get_rst_cliques(G, a, H, b):\n",
    "    rst_cliques = []\n",
    "    \n",
    "    # Implement method here. \n",
    "    \n",
    "    return rst_cliques"
   ]
  },
  {
   "cell_type": "markdown",
   "id": "f30bafe7",
   "metadata": {},
   "source": [
    "Recall for (r, s, t)-independent sets, we have (r, s, t) is either r (3, 1, 1), (2, 1, 2), (2, 2, 1), (1, 1, 3), (1, 2, 2), (1, 3, 1), (0, 2, 3) or (0, 3, 2)."
   ]
  },
  {
   "cell_type": "code",
   "execution_count": null,
   "id": "4a27a833",
   "metadata": {},
   "outputs": [],
   "source": [
    "# Description: Defintion on page 6\n",
    "# Input: G, a (first pointed graph we are gluing) and H, b (second pointed graph we are glueing)\n",
    "# Output: A list of all the (r, s, t) independent sets. \n",
    "def get_rst_independent_sets(G, a, H, b):\n",
    "    rst_IS = []\n",
    "    \n",
    "    # Implement method here. \n",
    "    \n",
    "    return rst_IS"
   ]
  },
  {
   "cell_type": "markdown",
   "id": "ddc78a20",
   "metadata": {},
   "source": [
    "# Second, a method that turns constraints on M into a SAT instance.  "
   ]
  },
  {
   "cell_type": "markdown",
   "id": "72034df7",
   "metadata": {},
   "source": [
    "A very popular question in computer science is the *SATisfiability problem* which asks: how do you determine if a boolean formula (on n boolean variables) has an assignment of the variables that makes the formula true. Our formulas tend to be of the following form \n",
    "\n",
    "(x_1 OR x_2 OR ... x_k) AND (y_1 OR y_2 OR ... y_k) AND ... AND (z_1 OR z_2 OR ... OR z_k)\n",
    "\n",
    "It turns out SAT is an NP hard problem! But SAT solving is such a common instance in computer science, there's a whole host of results and algorithms on it. "
   ]
  },
  {
   "cell_type": "markdown",
   "id": "60c815eb",
   "metadata": {},
   "source": [
    "We have a bunch of 0, 1 variables in a matrix M which needs to satisfy certain constraints (dictated by the rst cliques and indpendent sets). This is an excerpt from the paper: \n",
    "\n",
    "` Each entry m_ij of M is a variable, with value FALSE, TRUE or UNKNOWN, while each set {x1, . . . , xs} × {y1, . . . , yt} is a clause. Clauses from potential (r, s, t)-cliques can’t have all their variables TRUE, while clauses from potential independent (r, s, t)-sets can’t have all their variables FALSE.`\n",
    " \n",
    "In other words, each rst clique / independent set exactly corresponds to a clause in our SAT formula! So, finding all the possible matrices M amounts to finding all the satisfying assignments of a certain formula. "
   ]
  },
  {
   "cell_type": "code",
   "execution_count": null,
   "id": "011de144",
   "metadata": {},
   "outputs": [],
   "source": [
    "# Description: Takes two pointed graphs and creates a SAT formula encoding the constraints a glueing defined by M must satisfy. \n",
    "# Input: Two pointed graphs (variables names according to notation in paper)\n",
    "# Output: *Undecided* A list of clauses?\n",
    "def create_SAT_formula(G, a, H, b):\n",
    "    rst_cliques = get_rst_cliques(G, a, H, b)\n",
    "    rst_IS = get_rst_independent_sets(G, a, H, b)\n",
    "    \n",
    "    clauses = []\n",
    "    \n",
    "    # Implement method here. \n",
    "    \n",
    "    return clauses"
   ]
  },
  {
   "cell_type": "markdown",
   "id": "678b0115",
   "metadata": {},
   "source": [
    "Once we have the SAT formula, we have to find all the satisfying assignments! Is there a Sage method which will just do this for us? Most likely (there are many SAT solvers out there). "
   ]
  },
  {
   "cell_type": "code",
   "execution_count": null,
   "id": "06a033dd",
   "metadata": {},
   "outputs": [],
   "source": [
    "def get_SAT_assignments(formula):\n",
    "    assignments = []\n",
    "    \n",
    "    # Implement method here.\n",
    "    \n",
    "    return assignemnts "
   ]
  },
  {
   "cell_type": "markdown",
   "id": "2ec42e33",
   "metadata": {},
   "source": [
    "## Step three: Return the gluing based on the solutions generated above. "
   ]
  },
  {
   "cell_type": "code",
   "execution_count": null,
   "id": "cb13b6e8",
   "metadata": {},
   "outputs": [],
   "source": [
    "# Description: We will use a matrix M to glue two pointed graphs together. \n",
    "# Input: Two pointed graphs (G, a) and (H, b) as well as a d' x d' matrix M. \n",
    "# Output: A graph, based on glueing along M. \n",
    "def glue(G, a, H, b, M): \n",
    "    glued_graph = Graph()\n",
    "    \n",
    "    return glued_graph"
   ]
  }
 ],
 "metadata": {
  "kernelspec": {
   "display_name": "SageMath 9.5",
   "language": "sage",
   "name": "sagemath"
  },
  "language_info": {
   "codemirror_mode": {
    "name": "ipython",
    "version": 3
   },
   "file_extension": ".py",
   "mimetype": "text/x-python",
   "name": "python",
   "nbconvert_exporter": "python",
   "pygments_lexer": "ipython3",
   "version": "3.9.13"
  }
 },
 "nbformat": 4,
 "nbformat_minor": 5
}
