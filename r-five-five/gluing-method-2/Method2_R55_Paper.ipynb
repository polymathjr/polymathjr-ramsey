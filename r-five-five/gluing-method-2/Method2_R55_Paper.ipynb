{
 "cells": [
  {
   "cell_type": "markdown",
   "id": "12ce8b93",
   "metadata": {},
   "source": [
    "# Implementing the Second Method of the R(5, 5) Paper"
   ]
  },
  {
   "cell_type": "markdown",
   "id": "2fdc8483",
   "metadata": {},
   "source": [
    "Here is an outline of an implementation for the algorithm outlined in page 8 of the R(5, 5) paper. I've broken it up into individual pieces which may be attacked by different researchers. "
   ]
  },
  {
   "cell_type": "markdown",
   "id": "b37a468c",
   "metadata": {},
   "source": [
    "## First, methods for enumerating (r, s, t)-cliques and (r, s, t)-independent sets. "
   ]
  },
  {
   "cell_type": "markdown",
   "id": "5f16a393",
   "metadata": {},
   "source": [
    "Recall for (r, s, t)-cliques, we have (r, s, t) is either (1, 2, 2), (0, 2, 3) or (0, 3, 2)."
   ]
  },
  {
   "cell_type": "code",
   "execution_count": 14,
   "id": "548107b8",
   "metadata": {
    "vscode": {
     "languageId": "python"
    }
   },
   "outputs": [],
   "source": [
    "import itertools\n",
    "# Description: Defintion on page 6\n",
    "# Input: G, a (first pointed graph we are gluing) and H, b (second pointed graph we are glueing)\n",
    "# K is the shared neighborhood of a and b in both graphs (K is in R(3,5,d)). Note that for this method, we assume\n",
    "# K's vertices when found in G and H will have the same labels in all 3 graphs.\n",
    "# Output: A list of all the (r, s, t) cliques. \n",
    "\n",
    "\n",
    "def get_rst_cliques(G, a, H, b, K):\n",
    "    #Contains 3-tuples of the form (w_tuple, x_tuple, y_tuple)\n",
    "    rst_cliques = []\n",
    "    VK = K.vertices()\n",
    "    xs = (set(G.vertices()) - set(VK))\n",
    "    xs.remove(a)\n",
    "    ys = (set(H.vertices()) - set(VK))\n",
    "    ys.remove(b)\n",
    "\n",
    "    def clique_helper(r, s, t, VK_, xs_, ys_):\n",
    "        output = []\n",
    "        if r > 0:\n",
    "            for w_comb in itertools.combinations(VK_,r):\n",
    "                #contains s-tuples that form r+s - independent sets with w in G\n",
    "                x_cliques = []\n",
    "                #contains t-tuples that form r+t - independent sets with w in H\n",
    "                y_cliques = []\n",
    "\n",
    "                for x_comb in itertools.combinations(xs_, s):\n",
    "                    comb = w_comb + x_comb\n",
    "                    if G.is_clique(comb):\n",
    "                        x_cliques.append(x_comb)\n",
    "\n",
    "                for y_comb in itertools.combinations(ys_, t):\n",
    "                    comb = w_comb + y_comb\n",
    "                    if H.is_clique(comb):\n",
    "                        y_cliques.append(y_comb)\n",
    "\n",
    "                for x_comb in x_cliques:\n",
    "                    for y_comb in y_cliques:\n",
    "                        output.append( ( w_comb, x_comb, y_comb ) )\n",
    "            return output\n",
    "        else:\n",
    "            #contains s-tuples that form s - independent sets in G\n",
    "            x_cliques = []\n",
    "            #contains t-tuples that form t - independent sets in H\n",
    "            y_cliques = []\n",
    "            for x_comb in itertools.combinations(xs_, s):\n",
    "                if G.is_clique(x_comb):\n",
    "                    x_cliques.append(x_comb)\n",
    "\n",
    "            for y_comb in itertools.combinations(ys_, t):\n",
    "                if H.is_clique(y_comb):\n",
    "                    y_cliques.append(y_comb)\n",
    "\n",
    "            for x_comb in x_cliques:\n",
    "                for y_comb in y_cliques:\n",
    "                    output.append( ( (), x_comb, y_comb ) )\n",
    "            \n",
    "            return output\n",
    "\n",
    "    # #(1,2,2) case\n",
    "    # for w in VK:\n",
    "    #     #contains 2-tuples that form 3-cliques with w in G\n",
    "    #     x_1_2_cliques = []\n",
    "    #     #contains 2-tuples that form 3-cliques with w in H\n",
    "    #     y_1_2_cliques = []\n",
    "\n",
    "    #     for pair in itertools.combinations(xs,2):\n",
    "    #         if G.is_clique([w, pair[0], pair[1]]):\n",
    "    #             x_1_2_cliques.append(pair)\n",
    "    #     for pair in itertools.combinations(ys,2):\n",
    "    #         if H.is_clique([w, pair[0], pair[1]]):\n",
    "    #             y_1_2_cliques.append(pair)\n",
    "\n",
    "    #     for pair1 in x_1_2_cliques:\n",
    "    #         for pair2 in y_1_2_cliques:\n",
    "    #             rst_cliques.append( ( (w,), pair1, pair2 ) )\n",
    "\n",
    "    # #(0,2,3) case\n",
    "    # #can simplify this part to just look for edges\n",
    "    # x_0_2_cliques = []\n",
    "    # y_0_3_cliques = []\n",
    "    # for pair in itertools.combinations(xs,2):\n",
    "    #     if G.is_clique([pair[0], pair[1]]):\n",
    "    #         x_0_2_cliques.append(pair)\n",
    "    # for pair in itertools.combinations(ys,3):\n",
    "    #     if H.is_clique([pair[0], pair[1], pair[2]]):\n",
    "    #         y_0_3_cliques.append(pair)\n",
    "\n",
    "    # for pair1 in x_0_2_cliques:\n",
    "    #         for pair2 in y_0_3_cliques:\n",
    "    #             rst_cliques.append( ( (), pair1, pair2 ) )\n",
    "    \n",
    "    # #(0,3,2) case\n",
    "    # x_0_3_cliques = []\n",
    "    # y_0_2_cliques = []\n",
    "    # for pair in itertools.combinations(xs,3):\n",
    "    #     if G.is_clique([pair[0], pair[1], pair[2]]):\n",
    "    #         x_0_3_cliques.append(pair)\n",
    "    # for pair in itertools.combinations(ys,2):\n",
    "    #     if H.is_clique([pair[0], pair[1]]):\n",
    "    #         y_0_2_cliques.append(pair)\n",
    "\n",
    "    # for pair1 in x_0_3_cliques:\n",
    "    #         for pair2 in y_0_2_cliques:\n",
    "    #             rst_cliques.append( ( (), pair1, pair2 ) )\n",
    "\n",
    "    rst_cliques += clique_helper(1,2,2,VK,xs,ys)\n",
    "    rst_cliques += clique_helper(0,2,3,VK,xs,ys)\n",
    "    rst_cliques += clique_helper(0,3,2,VK,xs,ys)\n",
    "\n",
    "    return rst_cliques"
   ]
  },
  {
   "cell_type": "markdown",
   "id": "21fc268a",
   "metadata": {},
   "source": [
    "Here is an example usage of the above function"
   ]
  },
  {
   "cell_type": "code",
   "execution_count": 15,
   "id": "51b45300",
   "metadata": {
    "vscode": {
     "languageId": "python"
    }
   },
   "outputs": [
    {
     "data": {
      "image/png": "[encoded data removed]",
      "text/plain": [
       "Graphics object consisting of 13 graphics primitives"
      ]
     },
     "metadata": {},
     "output_type": "display_data"
    },
    {
     "data": {
      "image/png": "[encoded data removed]",
      "text/plain": [
       "Graphics object consisting of 34 graphics primitives"
      ]
     },
     "metadata": {},
     "output_type": "display_data"
    },
    {
     "name": "stdout",
     "output_type": "stream",
     "text": [
      "3\n",
      "4\n"
     ]
    },
    {
     "data": {
      "image/png": "[encoded data removed]",
      "text/plain": [
       "Graphics object consisting of 31 graphics primitives"
      ]
     },
     "metadata": {},
     "output_type": "display_data"
    },
    {
     "name": "stdout",
     "output_type": "stream",
     "text": [
      "3\n",
      "4\n"
     ]
    },
    {
     "data": {
      "text/plain": [
       "[(('k0',), ('g1', 'g0'), ('h0', 'h1')),\n",
       " ((), ('g1', 'g0'), ('h2', 'h0', 'h1')),\n",
       " ((), ('g1', 'g3'), ('h2', 'h0', 'h1')),\n",
       " ((), ('g1', 'g2'), ('h2', 'h0', 'h1')),\n",
       " ((), ('g0', 'g2'), ('h2', 'h0', 'h1')),\n",
       " ((), ('g3', 'g2'), ('h2', 'h0', 'h1')),\n",
       " ((), ('g1', 'g0', 'g2'), ('h2', 'h0')),\n",
       " ((), ('g1', 'g0', 'g2'), ('h2', 'h1')),\n",
       " ((), ('g1', 'g0', 'g2'), ('h0', 'h1')),\n",
       " ((), ('g1', 'g3', 'g2'), ('h2', 'h0')),\n",
       " ((), ('g1', 'g3', 'g2'), ('h2', 'h1')),\n",
       " ((), ('g1', 'g3', 'g2'), ('h0', 'h1'))]"
      ]
     },
     "execution_count": 15,
     "metadata": {},
     "output_type": "execute_result"
    }
   ],
   "source": [
    "#Sample Execution\n",
    "K = graphs.EmptyGraph()\n",
    "for i in range(6):\n",
    "    vertex_label = \"k\" + str(i)\n",
    "    K.add_vertex(vertex_label)\n",
    "for i in range(6):\n",
    "    K.add_edge(\"k\"+str(i), \"k\"+str((i+1)%6))\n",
    "K.show()\n",
    "\n",
    "G = K.copy()\n",
    "G.add_vertex(\"a\")\n",
    "G.add_vertices([\"g0\", \"g1\", \"g2\", \"g3\"])\n",
    "G.add_edges([(\"a\", x) for x in K.vertices()])\n",
    "for i in range(3):\n",
    "    G.add_edge(\"g\"+str(i), \"g\"+str((i+1)))\n",
    "for i in range(4):\n",
    "    G.add_edge(\"g\"+str(i), \"k\"+str((i)))\n",
    "G.add_edges([(\"k0\",\"g1\"), (\"g0\",\"g2\"), (\"g1\",\"g3\")])\n",
    "G.show()\n",
    "print(G.clique_number())\n",
    "print(G.complement().clique_number())\n",
    "\n",
    "H = K.copy()\n",
    "H.add_vertex(\"b\")\n",
    "H.add_vertices([\"h0\", \"h1\", \"h2\", \"h3\"])\n",
    "H.add_edges([(\"b\", x) for x in K.vertices()])\n",
    "H.add_edges([(\"k0\", \"h0\"), (\"k0\", \"h1\"), (\"h0\", \"h1\"), (\"h0\", \"h2\"), (\"h1\", \"h2\"), (\"k3\", \"h3\"), (\"k2\", \"h2\")])\n",
    "H.show()\n",
    "print(H.clique_number())\n",
    "print(H.complement().clique_number())\n",
    "\n",
    "get_rst_cliques(G, \"a\", H, \"b\", K)"
   ]
  },
  {
   "cell_type": "markdown",
   "id": "f30bafe7",
   "metadata": {},
   "source": [
    "Recall for (r, s, t)-independent sets, we have (r, s, t) is either r (3, 1, 1), (2, 1, 2), (2, 2, 1), (1, 1, 3), (1, 2, 2), (1, 3, 1), (0, 2, 3) or (0, 3, 2)."
   ]
  },
  {
   "cell_type": "code",
   "execution_count": 16,
   "id": "4a27a833",
   "metadata": {
    "vscode": {
     "languageId": "python"
    }
   },
   "outputs": [],
   "source": [
    "# Description: Defintion on page 6\n",
    "# Input: G, a (first pointed graph we are gluing) and H, b (second pointed graph we are glueing)\n",
    "# K is the shared neighborhood of a and b in both graphs (K is in R(3,5,d)). Note that for this method, we assume\n",
    "# K's vertices when found in G and H will have the same labels in all 3 graphs.\n",
    "# Output: A list of all the (r, s, t) independent sets. \n",
    "def get_rst_independent_sets(G, a, H, b, K):\n",
    "    #Contains 3-tuples of the form (w_tuple, x_tuple, y_tuple)\n",
    "    rst_IS = []\n",
    "    VK = K.vertices()\n",
    "    xs = (set(G.vertices()) - set(VK))\n",
    "    xs.remove(a)\n",
    "    ys = (set(H.vertices()) - set(VK))\n",
    "    ys.remove(b)\n",
    "\n",
    "    def indepHelper(r,s,t, VK_, xs_, ys_):\n",
    "        output = []\n",
    "        if r > 0:\n",
    "            for w_comb in itertools.combinations(VK_,r):\n",
    "                #contains s-tuples that form r+s - independent sets with w in G\n",
    "                x_cliques = []\n",
    "                #contains t-tuples that form r+t - independent sets with w in H\n",
    "                y_cliques = []\n",
    "\n",
    "                for x_comb in itertools.combinations(xs_, s):\n",
    "                    comb = w_comb + x_comb\n",
    "                    if G.is_independent_set(comb):\n",
    "                        x_cliques.append(x_comb)\n",
    "\n",
    "                for y_comb in itertools.combinations(ys_, t):\n",
    "                    comb = w_comb + y_comb\n",
    "                    if H.is_independent_set(comb):\n",
    "                        y_cliques.append(y_comb)\n",
    "\n",
    "                for x_comb in x_cliques:\n",
    "                    for y_comb in y_cliques:\n",
    "                        output.append( ( w_comb, x_comb, y_comb ) )\n",
    "            return output\n",
    "        else:\n",
    "            #contains s-tuples that form s - independent sets in G\n",
    "            x_cliques = []\n",
    "            #contains t-tuples that form t - independent sets in H\n",
    "            y_cliques = []\n",
    "            for x_comb in itertools.combinations(xs_, s):\n",
    "                if G.is_independent_set(x_comb):\n",
    "                    x_cliques.append(x_comb)\n",
    "\n",
    "            for y_comb in itertools.combinations(ys_, t):\n",
    "                if H.is_independent_set(y_comb):\n",
    "                    y_cliques.append(y_comb)\n",
    "\n",
    "            for x_comb in x_cliques:\n",
    "                for y_comb in y_cliques:\n",
    "                    output.append( ( (), x_comb, y_comb ) )\n",
    "            \n",
    "            return output\n",
    "\n",
    "    rst_IS += indepHelper(3, 1, 1, VK, xs, ys)\n",
    "    rst_IS += indepHelper(2, 1, 2, VK, xs, ys)\n",
    "    rst_IS += indepHelper(2, 2, 1, VK, xs, ys)\n",
    "    rst_IS += indepHelper(1, 1, 3, VK, xs, ys)\n",
    "    rst_IS += indepHelper(1, 2, 2, VK, xs, ys)\n",
    "    rst_IS += indepHelper(1, 3, 1, VK, xs, ys)\n",
    "    rst_IS += indepHelper(0, 2, 3, VK, xs, ys)\n",
    "    rst_IS += indepHelper(0, 3, 2, VK, xs, ys)\n",
    "    \n",
    "    return rst_IS"
   ]
  },
  {
   "cell_type": "markdown",
   "id": "9c2245ef",
   "metadata": {},
   "source": [
    "Example usage"
   ]
  },
  {
   "cell_type": "code",
   "execution_count": 17,
   "id": "5e8cedd3",
   "metadata": {
    "vscode": {
     "languageId": "python"
    }
   },
   "outputs": [
    {
     "name": "stdout",
     "output_type": "stream",
     "text": [
      "64\n",
      "(('k0', 'k2', 'k4'), ('g3',), ('h3',))\n",
      "(('k1', 'k3', 'k5'), ('g0',), ('h2',))\n",
      "(('k1', 'k3', 'k5'), ('g0',), ('h0',))\n",
      "(('k1', 'k3', 'k5'), ('g0',), ('h1',))\n",
      "(('k1', 'k3', 'k5'), ('g2',), ('h2',))\n",
      "(('k1', 'k3', 'k5'), ('g2',), ('h0',))\n",
      "(('k1', 'k3', 'k5'), ('g2',), ('h1',))\n",
      "(('k0', 'k4'), ('g3',), ('h2', 'h3'))\n",
      "(('k0', 'k4'), ('g2',), ('h2', 'h3'))\n",
      "(('k1', 'k4'), ('g0',), ('h2', 'h3'))\n",
      "(('k1', 'k4'), ('g0',), ('h3', 'h0'))\n",
      "(('k1', 'k4'), ('g0',), ('h3', 'h1'))\n",
      "(('k1', 'k4'), ('g3',), ('h2', 'h3'))\n",
      "(('k1', 'k4'), ('g3',), ('h3', 'h0'))\n",
      "(('k1', 'k4'), ('g3',), ('h3', 'h1'))\n",
      "(('k1', 'k4'), ('g2',), ('h2', 'h3'))\n",
      "(('k1', 'k4'), ('g2',), ('h3', 'h0'))\n",
      "(('k1', 'k4'), ('g2',), ('h3', 'h1'))\n",
      "(('k1', 'k5'), ('g0',), ('h2', 'h3'))\n",
      "(('k1', 'k5'), ('g0',), ('h3', 'h0'))\n",
      "(('k1', 'k5'), ('g0',), ('h3', 'h1'))\n",
      "(('k1', 'k5'), ('g3',), ('h2', 'h3'))\n",
      "(('k1', 'k5'), ('g3',), ('h3', 'h0'))\n",
      "(('k1', 'k5'), ('g3',), ('h3', 'h1'))\n",
      "(('k1', 'k5'), ('g2',), ('h2', 'h3'))\n",
      "(('k1', 'k5'), ('g2',), ('h3', 'h0'))\n",
      "(('k1', 'k5'), ('g2',), ('h3', 'h1'))\n",
      "(('k2', 'k4'), ('g1',), ('h3', 'h0'))\n",
      "(('k2', 'k4'), ('g1',), ('h3', 'h1'))\n",
      "(('k2', 'k4'), ('g0',), ('h3', 'h0'))\n",
      "(('k2', 'k4'), ('g0',), ('h3', 'h1'))\n",
      "(('k2', 'k4'), ('g3',), ('h3', 'h0'))\n",
      "(('k2', 'k4'), ('g3',), ('h3', 'h1'))\n",
      "(('k2', 'k5'), ('g1',), ('h3', 'h0'))\n",
      "(('k2', 'k5'), ('g1',), ('h3', 'h1'))\n",
      "(('k2', 'k5'), ('g0',), ('h3', 'h0'))\n",
      "(('k2', 'k5'), ('g0',), ('h3', 'h1'))\n",
      "(('k2', 'k5'), ('g3',), ('h3', 'h0'))\n",
      "(('k2', 'k5'), ('g3',), ('h3', 'h1'))\n",
      "(('k1', 'k4'), ('g0', 'g3'), ('h2',))\n",
      "(('k1', 'k4'), ('g0', 'g3'), ('h3',))\n",
      "(('k1', 'k4'), ('g0', 'g3'), ('h0',))\n",
      "(('k1', 'k4'), ('g0', 'g3'), ('h1',))\n",
      "(('k1', 'k5'), ('g0', 'g3'), ('h2',))\n",
      "(('k1', 'k5'), ('g0', 'g3'), ('h3',))\n",
      "(('k1', 'k5'), ('g0', 'g3'), ('h0',))\n",
      "(('k1', 'k5'), ('g0', 'g3'), ('h1',))\n",
      "(('k2', 'k4'), ('g0', 'g3'), ('h3',))\n",
      "(('k2', 'k4'), ('g0', 'g3'), ('h0',))\n",
      "(('k2', 'k4'), ('g0', 'g3'), ('h1',))\n",
      "(('k2', 'k5'), ('g0', 'g3'), ('h3',))\n",
      "(('k2', 'k5'), ('g0', 'g3'), ('h0',))\n",
      "(('k2', 'k5'), ('g0', 'g3'), ('h1',))\n",
      "(('k1',), ('g0', 'g3'), ('h2', 'h3'))\n",
      "(('k1',), ('g0', 'g3'), ('h3', 'h0'))\n",
      "(('k1',), ('g0', 'g3'), ('h3', 'h1'))\n",
      "(('k2',), ('g0', 'g3'), ('h3', 'h0'))\n",
      "(('k2',), ('g0', 'g3'), ('h3', 'h1'))\n",
      "(('k4',), ('g0', 'g3'), ('h2', 'h3'))\n",
      "(('k4',), ('g0', 'g3'), ('h3', 'h0'))\n",
      "(('k4',), ('g0', 'g3'), ('h3', 'h1'))\n",
      "(('k5',), ('g0', 'g3'), ('h2', 'h3'))\n",
      "(('k5',), ('g0', 'g3'), ('h3', 'h0'))\n",
      "(('k5',), ('g0', 'g3'), ('h3', 'h1'))\n"
     ]
    }
   ],
   "source": [
    "output = get_rst_independent_sets(G, \"a\", H, \"b\", K)\n",
    "print(len(output))\n",
    "for i in output:\n",
    "    print(i)"
   ]
  },
  {
   "cell_type": "markdown",
   "id": "ddc78a20",
   "metadata": {},
   "source": [
    "# Second, a method that turns constraints on M into a SAT instance.  "
   ]
  },
  {
   "cell_type": "markdown",
   "id": "72034df7",
   "metadata": {},
   "source": [
    "A very popular question in computer science is the *SATisfiability problem* which asks: how do you determine if a boolean formula (on n boolean variables) has an assignment of the variables that makes the formula true. Our formulas tend to be of the following form \n",
    "\n",
    "(x_1 OR x_2 OR ... x_k) AND (y_1 OR y_2 OR ... y_k) AND ... AND (z_1 OR z_2 OR ... OR z_k)\n",
    "\n",
    "It turns out SAT is an NP hard problem! But SAT solving is such a common instance in computer science, there's a whole host of results and algorithms on it. "
   ]
  },
  {
   "cell_type": "markdown",
   "id": "60c815eb",
   "metadata": {},
   "source": [
    "We have a bunch of 0, 1 variables in a matrix M which needs to satisfy certain constraints (dictated by the rst cliques and indpendent sets). This is an excerpt from the paper: \n",
    "\n",
    "` Each entry m_ij of M is a variable, with value FALSE, TRUE or UNKNOWN, while each set {x1, . . . , xs} × {y1, . . . , yt} is a clause. Clauses from potential (r, s, t)-cliques can’t have all their variables TRUE, while clauses from potential independent (r, s, t)-sets can’t have all their variables FALSE.`\n",
    " \n",
    "In other words, each rst clique / independent set exactly corresponds to a clause in our SAT formula! So, finding all the possible matrices M amounts to finding all the satisfying assignments of a certain formula. "
   ]
  },
  {
   "cell_type": "code",
   "execution_count": 18,
   "id": "011de144",
   "metadata": {
    "vscode": {
     "languageId": "python"
    }
   },
   "outputs": [],
   "source": [
    "# Description: Takes two pointed graphs and creates a SAT formula encoding the constraints a glueing defined by M must satisfy. \n",
    "# Input: Two pointed graphs (variables names according to notation in paper)\n",
    "# Output: A list of clauses, along with maps from vertices of G and H to indices for the matrix M\n",
    "import GluingClasses as gc\n",
    "\n",
    "def create_SAT_formula(G, a, H, b, K):\n",
    "    rst_cliques = get_rst_cliques(G, a, H, b, K)\n",
    "    rst_IS = get_rst_independent_sets(G, a, H, b, K)\n",
    "\n",
    "    VK = K.vertices()\n",
    "    xs = (set(G.vertices()) - set(VK))\n",
    "    xs.remove(a)\n",
    "    g_map = {}\n",
    "    i = 0\n",
    "    for x in xs:\n",
    "        g_map[x] = i\n",
    "        i += 1\n",
    "\n",
    "    ys = (set(H.vertices()) - set(VK))\n",
    "    ys.remove(b)\n",
    "    h_map = {}\n",
    "    i = 0\n",
    "    for y in ys:\n",
    "        h_map[y] = i\n",
    "        i += 1\n",
    "\n",
    "    d_prime = len(xs) #i think this should be correct\n",
    "    M = gc.PotentialEdgeMatrix(d_prime, d_prime)\n",
    "    clauses = []\n",
    "\n",
    "\n",
    "    for clique in rst_cliques:\n",
    "        g_vertices = clique[1]\n",
    "        h_vertices = clique[2]\n",
    "        variables = []\n",
    "        for g_vertex in g_vertices:\n",
    "            for h_vertex in h_vertices:\n",
    "                variables.append(M.matrix[g_map[g_vertex]][h_map[h_vertex]])\n",
    "        new_clause = gc.Clause(variables, True)\n",
    "        clauses.append(new_clause)\n",
    "\n",
    "    for indep_set in rst_IS:\n",
    "        g_vertices = indep_set[1]\n",
    "        h_vertices = indep_set[2]\n",
    "        variables = []\n",
    "        for g_vertex in g_vertices:\n",
    "            for h_vertex in h_vertices:\n",
    "                variables.append(M.matrix[g_map[g_vertex]][h_map[h_vertex]])\n",
    "        new_clause = gc.Clause(variables, False)\n",
    "        clauses.append(new_clause)\n",
    "    \n",
    "    return clauses, M, g_map, h_map"
   ]
  },
  {
   "cell_type": "markdown",
   "id": "b21a3cdf",
   "metadata": {},
   "source": [
    "Example usage"
   ]
  },
  {
   "cell_type": "code",
   "execution_count": 19,
   "id": "63a4abf6",
   "metadata": {
    "vscode": {
     "languageId": "python"
    }
   },
   "outputs": [
    {
     "name": "stdout",
     "output_type": "stream",
     "text": [
      "(0,2,U), (0,3,U), (1,2,U), (1,3,U), True\n",
      "(('k0',), ('g1', 'g0'), ('h0', 'h1'))\n",
      "{'g1': 0, 'g0': 1, 'g3': 2, 'g2': 3}\n",
      "{'h2': 0, 'h3': 1, 'h0': 2, 'h1': 3}\n",
      "True\n"
     ]
    }
   ],
   "source": [
    "clauses, M, g_map, h_map = create_SAT_formula(G, \"a\", H, \"b\", K)\n",
    "rst_cliques = get_rst_cliques(G, \"a\", H, \"b\", K)\n",
    "rst_IS = get_rst_independent_sets(G, \"a\", H, \"b\", K)\n",
    "print(clauses[0])\n",
    "print(rst_cliques[0])\n",
    "print(g_map)\n",
    "print(h_map)\n",
    "print(len(clauses) == len(rst_cliques) + len(rst_IS))"
   ]
  },
  {
   "cell_type": "markdown",
   "id": "678b0115",
   "metadata": {},
   "source": [
    "Once we have the SAT formula, we have to find all the satisfying assignments! Is there a Sage method which will just do this for us? Most likely (there are many SAT solvers out there). We implement the paper's stack based recursive solution. Here is the non-recursive part first"
   ]
  },
  {
   "cell_type": "code",
   "execution_count": 20,
   "id": "06a033dd",
   "metadata": {
    "vscode": {
     "languageId": "python"
    }
   },
   "outputs": [],
   "source": [
    "#Description: Takes a pre-setup stack and computes as much assignment as possible\n",
    "#Input: stack is just a list used as a stack of variables. Note that because of how references work in python - modifying parts of stack\n",
    "#effects the matrix and clauses outside of this function. \n",
    "#This probably means we need to make a copy of M/clauses/a new stack for each execution in case of failure.\n",
    "#Output: Returns true/false if it works\n",
    "def stack_algo(stack):\n",
    "    assignments = []\n",
    "    while len(stack) > 0:\n",
    "        alpha = stack.pop()\n",
    "        if alpha.exists == gc.EdgeExists.FALSE:\n",
    "            for i_clause in alpha.ind_set_clauses:\n",
    "                num_variables = len(i_clause.potential_edges)\n",
    "                #This means all are FALSE\n",
    "                if i_clause.num_undesired == num_variables:\n",
    "                    return False\n",
    "                #this means all are FALSE except one variable\n",
    "                elif i_clause.num_undesired == num_variables - 1 and i_clause.num_unknown == 1:\n",
    "                    for beta in i_clause:\n",
    "                        if beta.exists == gc.EdgeExists.UNKNOWN:\n",
    "                            beta.set_exists(gc.EdgeExists.TRUE)\n",
    "                            print(str(beta) + \" is now true\")\n",
    "                            stack.append(beta)\n",
    "        else:\n",
    "            for c_clause in alpha.clique_clauses:\n",
    "                num_variables = len(c_clause.potential_edges)\n",
    "                #this means all are TRUE\n",
    "                if c_clause.num_undesired == num_variables:\n",
    "                    print(str(c_clause) + \" isn't satisfiable\")\n",
    "                    return False\n",
    "                #this means all are TRUE except one variable\n",
    "                elif c_clause.num_undesired == num_variables - 1 and c_clause.num_unknown == 1:\n",
    "                    for beta in c_clause:\n",
    "                        if beta.exists == gc.EdgeExists.UNKNOWN:\n",
    "                            beta.set_exists(gc.EdgeExists.FALSE)\n",
    "                            print(str(beta) + \" is now false\")\n",
    "                            stack.append(beta)\n",
    "    return True"
   ]
  },
  {
   "cell_type": "markdown",
   "id": "fb5f34d5",
   "metadata": {},
   "source": [
    "Here is what one round of this algo's usage should look like. In this case, no possible gluing is found."
   ]
  },
  {
   "cell_type": "code",
   "execution_count": 21,
   "id": "88b19456",
   "metadata": {
    "vscode": {
     "languageId": "python"
    }
   },
   "outputs": [
    {
     "name": "stdout",
     "output_type": "stream",
     "text": [
      "[[(0,0,U), (0,1,U), (0,2,U), (0,3,U), ],[(1,0,U), (1,1,U), (1,2,U), (1,3,U), ],[(2,0,U), (2,1,U), (2,2,U), (2,3,U), ],[(3,0,U), (3,1,U), (3,2,U), (3,3,U), ],]\n",
      "[[(0,0,U), (0,1,U), (0,2,U), (0,3,U), ],[(1,0,T), (1,1,U), (1,2,T), (1,3,T), ],[(2,0,U), (2,1,T), (2,2,U), (2,3,U), ],[(3,0,T), (3,1,U), (3,2,T), (3,3,T), ],]\n",
      "(2,1,T)\n",
      "(1,0,T)\n",
      "(1,2,T)\n",
      "(1,3,T)\n",
      "(3,0,T)\n",
      "(3,2,T)\n",
      "(3,3,T)\n",
      "(1,0,T), (1,2,T), (1,3,T), (3,0,T), (3,2,T), (3,3,T), True isn't satisfiable\n"
     ]
    },
    {
     "data": {
      "text/plain": [
       "False"
      ]
     },
     "execution_count": 21,
     "metadata": {},
     "output_type": "execute_result"
    }
   ],
   "source": [
    "clauses, M, g_map, h_map = create_SAT_formula(G, \"a\", H, \"b\", K)\n",
    "stack = []\n",
    "print(M)\n",
    "for clause in clauses:\n",
    "    #it's an indep set clause\n",
    "    if clause.clique_clause == False:\n",
    "        #This means there is only 1 variable, so there must be an edge the vertices\n",
    "        if len(clause.potential_edges) == 1:\n",
    "            clause.potential_edges[0].set_exists(gc.EdgeExists.TRUE)\n",
    "            stack.append(clause.potential_edges[0])\n",
    "print(M)\n",
    "for elem in stack:\n",
    "    print(elem)\n",
    "\n",
    "stack_algo(stack)"
   ]
  },
  {
   "cell_type": "markdown",
   "id": "2482d388",
   "metadata": {},
   "source": [
    "Now, we work on the recursive part of the algorithm. We use the heuristic from the paper as well."
   ]
  },
  {
   "cell_type": "code",
   "execution_count": 22,
   "id": "fbd292f5",
   "metadata": {
    "vscode": {
     "languageId": "python"
    }
   },
   "outputs": [],
   "source": [
    "#Description: Takes the variables and clauses and recursively calls the stack algo to find all gluings\n",
    "#Input: M, and clauses are the initial variables and clauses. \n",
    "#This probably means we need to make a copy of M/clauses/a new stack for each execution in case of failure.\n",
    "#Output: list of possible gluings\n",
    "\n",
    "def recursive_solving(M, clauses, stack):\n",
    "    if stack_algo(stack) == False:\n",
    "        return []\n",
    "    else:\n",
    "        unknown_list = []\n",
    "        for list in M.matrix:\n",
    "            for elem in list:\n",
    "                if elem.exists == gc.EdgeExists.UNKNOWN:\n",
    "                    unknown_list.append(elem)\n",
    "        if len(unknown_list) == 0:\n",
    "            return [M]\n",
    "        else:\n",
    "            #this part of the code creates a copy of M and clauses\n",
    "            #we use the original M and clauses for the first recursion, and the copy for a second\n",
    "            #this copying is done to prevent changes in one recursion from affecting the second\n",
    "            num_rows = len(M.matrix)\n",
    "            num_cols = len(M.matrix[0])\n",
    "            M_copy = gc.PotentialEdgeMatrix(num_rows, num_cols)\n",
    "            clauses_copy = []\n",
    "            for clause in clauses:\n",
    "                old_vars = clause.potential_edges\n",
    "                new_vars = []\n",
    "                for var in old_vars:\n",
    "                    new_vars.append(M_copy.matrix[var.G_vertex][var.H_vertex])\n",
    "                new_clause = gc.Clause(new_vars, clause.clique_clause)\n",
    "                clauses_copy.append(new_clause)\n",
    "            for i in range(num_rows):\n",
    "                for j in range(num_cols):\n",
    "                    if M.matrix[i][j].exists == gc.EdgeExists.TRUE:\n",
    "                        M_copy[i][j].exists = gc.EdgeExists.TRUE\n",
    "                    elif M.matrix[i][j].exists == gc.EdgeExists.FALSE:\n",
    "                        M_copy[i][j].exists = gc.EdgeExists.FALSE\n",
    "            \n",
    "            #Using the paper's heuristic to decide what variable to add to the stack\n",
    "            next_vertex = unknown_list[0]\n",
    "            best_forcing = 0\n",
    "            for unknown_candidate in unknown_list:\n",
    "                num_forcing = 0\n",
    "                for c_clause in unknown_candidate.clique_clauses:\n",
    "                    num_variables = len(c_clause.potential_edges)\n",
    "                    if c_clause.num_unknown == 2 and c_clause.num_undesired == num_variables - 2:\n",
    "                        num_forcing += 1 \n",
    "                for i_clause in unknown_candidate.ind_set_clause:\n",
    "                    num_variables = len(i_clause.potential_edges)\n",
    "                    if i_clause.num_unknown == 2 and i_clause.num_undesired == num_variables - 2:\n",
    "                        num_forcing += 1 \n",
    "                if num_forcing > best_forcing:\n",
    "                    next_vertex = unknown_candidate\n",
    "                    best_forcing = num_forcing\n",
    "            \n",
    "            stack = [next_vertex]\n",
    "            stack_copy = [M_copy.matrix[next_vertex.G_vertex][next_vertex.H_vertex]]\n",
    "            \n",
    "            M.matrix[next_vertex.G_vertex][next_vertex.H_vertex].set_exists(gc.EdgeExists.TRUE)\n",
    "            M_copy.matrix[next_vertex.G_vertex][next_vertex.H_vertex].set_exists(gc.EdgeExists.FALSE)\n",
    "            \n",
    "            list1 = recursive_solving(M, clauses, stack)\n",
    "            list2 = recursive_solving(M_copy, clauses_copy, stack_copy)\n",
    "\n",
    "            return list1 + list2"
   ]
  },
  {
   "cell_type": "markdown",
   "id": "2ec42e33",
   "metadata": {},
   "source": [
    "## Step three: Return the gluing based on the solutions generated above. "
   ]
  },
  {
   "cell_type": "code",
   "execution_count": null,
   "id": "cb13b6e8",
   "metadata": {
    "vscode": {
     "languageId": "python"
    }
   },
   "outputs": [],
   "source": [
    "# Description: We will use a matrix M to glue two pointed graphs together. \n",
    "# Input: Two pointed graphs (G, a) and (H, b) as well as a d' x d' matrix M. \n",
    "# Output: A graph, based on glueing along M. \n",
    "def glue(G, a, H, b, M): \n",
    "    glued_graph = Graph()\n",
    "    \n",
    "    return glued_graph"
   ]
  }
 ],
 "metadata": {
  "kernelspec": {
   "display_name": "SageMath 9.5",
   "language": "sage",
   "name": "sagemath"
  },
  "language_info": {
   "codemirror_mode": {
    "name": "ipython",
    "version": 3
   },
   "file_extension": ".py",
   "mimetype": "text/x-python",
   "name": "python",
   "nbconvert_exporter": "python",
   "pygments_lexer": "ipython3",
   "version": "3.9.13"
  },
  "vscode": {
   "interpreter": {
    "hash": "31f2aee4e71d21fbe5cf8b01ff0e069b9275f58929596ceb00d14d90e3e16cd6"
   }
  }
 },
 "nbformat": 4,
 "nbformat_minor": 5
}
