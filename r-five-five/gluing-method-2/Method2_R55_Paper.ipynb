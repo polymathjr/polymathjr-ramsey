{
 "cells": [
  {
   "cell_type": "markdown",
   "id": "12ce8b93",
   "metadata": {},
   "source": [
    "# Implementing the Second Method of the R(5, 5) Paper"
   ]
  },
  {
   "cell_type": "markdown",
   "id": "2fdc8483",
   "metadata": {},
   "source": [
    "Here is an outline of an implementation for the algorithm outlined in page 8 of the R(5, 5) paper. I've broken it up into individual pieces which may be attacked by different researchers. "
   ]
  },
  {
   "cell_type": "markdown",
   "id": "b37a468c",
   "metadata": {},
   "source": [
    "## First, methods for enumerating (r, s, t)-cliques and (r, s, t)-independent sets. "
   ]
  },
  {
   "cell_type": "markdown",
   "id": "5f16a393",
   "metadata": {},
   "source": [
    "Recall for (r, s, t)-cliques, we have (r, s, t) is either (1, 2, 2), (0, 2, 3) or (0, 3, 2)."
   ]
  },
  {
   "cell_type": "code",
   "execution_count": null,
   "id": "548107b8",
   "metadata": {},
   "outputs": [],
   "source": [
    "import itertools\n",
    "# Description: Defintion on page 6\n",
    "# Input: G, a (first pointed graph we are gluing) and H, b (second pointed graph we are glueing)\n",
    "# K is the shared neighborhood of a and b in both graphs (K is in R(3,5,d)). Note that for this method, we assume\n",
    "# K's vertices when found in G and H will have the same labels in all 3 graphs.\n",
    "# Output: A list of all the (r, s, t) cliques. \n",
    "\n",
    "\n",
    "def get_rst_cliques(G, a, H, b, K):\n",
    "    #Contains 3-tuples of the form (w_tuple, x_tuple, y_tuple)\n",
    "    rst_cliques = []\n",
    "    VK = K.vertices()\n",
    "    xs = (set(G.vertices()) - set(VK))\n",
    "    xs.remove(a)\n",
    "    ys = (set(H.vertices()) - set(VK))\n",
    "    ys.remove(b)\n",
    "\n",
    "    def clique_helper(r, s, t, VK_, xs_, ys_):\n",
    "        output = []\n",
    "        if r > 0:\n",
    "            for w_comb in itertools.combinations(VK_,r):\n",
    "                #contains s-tuples that form r+s - independent sets with w in G\n",
    "                x_cliques = []\n",
    "                #contains t-tuples that form r+t - independent sets with w in H\n",
    "                y_cliques = []\n",
    "\n",
    "                for x_comb in itertools.combinations(xs_, s):\n",
    "                    comb = w_comb + x_comb\n",
    "                    if G.is_clique(comb):\n",
    "                        x_cliques.append(x_comb)\n",
    "\n",
    "                for y_comb in itertools.combinations(ys_, t):\n",
    "                    comb = w_comb + y_comb\n",
    "                    if H.is_clique(comb):\n",
    "                        y_cliques.append(y_comb)\n",
    "\n",
    "                for x_comb in x_cliques:\n",
    "                    for y_comb in y_cliques:\n",
    "                        output.append( ( w_comb, x_comb, y_comb ) )\n",
    "            return output\n",
    "        else:\n",
    "            #contains s-tuples that form s - independent sets in G\n",
    "            x_cliques = []\n",
    "            #contains t-tuples that form t - independent sets in H\n",
    "            y_cliques = []\n",
    "            for x_comb in itertools.combinations(xs_, s):\n",
    "                if G.is_clique(x_comb):\n",
    "                    x_cliques.append(x_comb)\n",
    "\n",
    "            for y_comb in itertools.combinations(ys_, t):\n",
    "                if H.is_clique(y_comb):\n",
    "                    y_cliques.append(y_comb)\n",
    "\n",
    "            for x_comb in x_cliques:\n",
    "                for y_comb in y_cliques:\n",
    "                    output.append( ( (), x_comb, y_comb ) )\n",
    "            \n",
    "            return output\n",
    "\n",
    "    # #(1,2,2) case\n",
    "    # for w in VK:\n",
    "    #     #contains 2-tuples that form 3-cliques with w in G\n",
    "    #     x_1_2_cliques = []\n",
    "    #     #contains 2-tuples that form 3-cliques with w in H\n",
    "    #     y_1_2_cliques = []\n",
    "\n",
    "    #     for pair in itertools.combinations(xs,2):\n",
    "    #         if G.is_clique([w, pair[0], pair[1]]):\n",
    "    #             x_1_2_cliques.append(pair)\n",
    "    #     for pair in itertools.combinations(ys,2):\n",
    "    #         if H.is_clique([w, pair[0], pair[1]]):\n",
    "    #             y_1_2_cliques.append(pair)\n",
    "\n",
    "    #     for pair1 in x_1_2_cliques:\n",
    "    #         for pair2 in y_1_2_cliques:\n",
    "    #             rst_cliques.append( ( (w,), pair1, pair2 ) )\n",
    "\n",
    "    # #(0,2,3) case\n",
    "    # #can simplify this part to just look for edges\n",
    "    # x_0_2_cliques = []\n",
    "    # y_0_3_cliques = []\n",
    "    # for pair in itertools.combinations(xs,2):\n",
    "    #     if G.is_clique([pair[0], pair[1]]):\n",
    "    #         x_0_2_cliques.append(pair)\n",
    "    # for pair in itertools.combinations(ys,3):\n",
    "    #     if H.is_clique([pair[0], pair[1], pair[2]]):\n",
    "    #         y_0_3_cliques.append(pair)\n",
    "\n",
    "    # for pair1 in x_0_2_cliques:\n",
    "    #         for pair2 in y_0_3_cliques:\n",
    "    #             rst_cliques.append( ( (), pair1, pair2 ) )\n",
    "    \n",
    "    # #(0,3,2) case\n",
    "    # x_0_3_cliques = []\n",
    "    # y_0_2_cliques = []\n",
    "    # for pair in itertools.combinations(xs,3):\n",
    "    #     if G.is_clique([pair[0], pair[1], pair[2]]):\n",
    "    #         x_0_3_cliques.append(pair)\n",
    "    # for pair in itertools.combinations(ys,2):\n",
    "    #     if H.is_clique([pair[0], pair[1]]):\n",
    "    #         y_0_2_cliques.append(pair)\n",
    "\n",
    "    # for pair1 in x_0_3_cliques:\n",
    "    #         for pair2 in y_0_2_cliques:\n",
    "    #             rst_cliques.append( ( (), pair1, pair2 ) )\n",
    "\n",
    "    rst_cliques += clique_helper(1,2,2,VK,xs,ys)\n",
    "    rst_cliques += clique_helper(0,2,3,VK,xs,ys)\n",
    "    rst_cliques += clique_helper(0,3,2,VK,xs,ys)\n",
    "\n",
    "    return rst_cliques"
   ]
  },
  {
   "cell_type": "markdown",
   "id": "21fc268a",
   "metadata": {},
   "source": [
    "Here is an example usage of the above function"
   ]
  },
  {
   "cell_type": "code",
   "execution_count": null,
   "id": "51b45300",
   "metadata": {},
   "outputs": [],
   "source": [
    "#Sample Execution\n",
    "K = graphs.EmptyGraph()\n",
    "for i in range(6):\n",
    "    vertex_label = \"k\" + str(i)\n",
    "    K.add_vertex(vertex_label)\n",
    "for i in range(6):\n",
    "    K.add_edge(\"k\"+str(i), \"k\"+str((i+1)%6))\n",
    "K.show()\n",
    "\n",
    "G = K.copy()\n",
    "G.add_vertex(\"a\")\n",
    "G.add_vertices([\"g0\", \"g1\", \"g2\", \"g3\"])\n",
    "G.add_edges([(\"a\", x) for x in K.vertices()])\n",
    "for i in range(3):\n",
    "    G.add_edge(\"g\"+str(i), \"g\"+str((i+1)))\n",
    "for i in range(4):\n",
    "    G.add_edge(\"g\"+str(i), \"k\"+str((i)))\n",
    "G.add_edges([(\"k0\",\"g1\"), (\"g0\",\"g2\"), (\"g1\",\"g3\")])\n",
    "G.show()\n",
    "print(G.clique_number())\n",
    "print(G.complement().clique_number())\n",
    "\n",
    "H = K.copy()\n",
    "H.add_vertex(\"b\")\n",
    "H.add_vertices([\"h0\", \"h1\", \"h2\", \"h3\"])\n",
    "H.add_edges([(\"b\", x) for x in K.vertices()])\n",
    "H.add_edges([(\"k0\", \"h0\"), (\"k0\", \"h1\"), (\"h0\", \"h1\"), (\"h0\", \"h2\"), (\"h1\", \"h2\"), (\"k3\", \"h3\"), (\"k2\", \"h2\")])\n",
    "H.show()\n",
    "print(H.clique_number())\n",
    "print(H.complement().clique_number())\n",
    "\n",
    "get_rst_cliques(G, \"a\", H, \"b\", K)"
   ]
  },
  {
   "cell_type": "markdown",
   "id": "f30bafe7",
   "metadata": {},
   "source": [
    "Recall for (r, s, t)-independent sets, we have (r, s, t) is either r (3, 1, 1), (2, 1, 2), (2, 2, 1), (1, 1, 3), (1, 2, 2), (1, 3, 1), (0, 2, 3) or (0, 3, 2)."
   ]
  },
  {
   "cell_type": "code",
   "execution_count": null,
   "id": "4a27a833",
   "metadata": {},
   "outputs": [],
   "source": [
    "# Description: Defintion on page 6\n",
    "# Input: G, a (first pointed graph we are gluing) and H, b (second pointed graph we are glueing)\n",
    "# K is the shared neighborhood of a and b in both graphs (K is in R(3,5,d)). Note that for this method, we assume\n",
    "# K's vertices when found in G and H will have the same labels in all 3 graphs.\n",
    "# Output: A list of all the (r, s, t) independent sets. \n",
    "def get_rst_independent_sets(G, a, H, b, K):\n",
    "    #Contains 3-tuples of the form (w_tuple, x_tuple, y_tuple)\n",
    "    rst_IS = []\n",
    "    VK = K.vertices()\n",
    "    xs = (set(G.vertices()) - set(VK))\n",
    "    xs.remove(a)\n",
    "    ys = (set(H.vertices()) - set(VK))\n",
    "    ys.remove(b)\n",
    "\n",
    "    def indepHelper(r,s,t, VK_, xs_, ys_):\n",
    "        output = []\n",
    "        if r > 0:\n",
    "            for w_comb in itertools.combinations(VK_,r):\n",
    "                #contains s-tuples that form r+s - independent sets with w in G\n",
    "                x_cliques = []\n",
    "                #contains t-tuples that form r+t - independent sets with w in H\n",
    "                y_cliques = []\n",
    "\n",
    "                for x_comb in itertools.combinations(xs_, s):\n",
    "                    comb = w_comb + x_comb\n",
    "                    if G.is_independent_set(comb):\n",
    "                        x_cliques.append(x_comb)\n",
    "\n",
    "                for y_comb in itertools.combinations(ys_, t):\n",
    "                    comb = w_comb + y_comb\n",
    "                    if H.is_independent_set(comb):\n",
    "                        y_cliques.append(y_comb)\n",
    "\n",
    "                for x_comb in x_cliques:\n",
    "                    for y_comb in y_cliques:\n",
    "                        output.append( ( w_comb, x_comb, y_comb ) )\n",
    "            return output\n",
    "        else:\n",
    "            #contains s-tuples that form s - independent sets in G\n",
    "            x_cliques = []\n",
    "            #contains t-tuples that form t - independent sets in H\n",
    "            y_cliques = []\n",
    "            for x_comb in itertools.combinations(xs_, s):\n",
    "                if G.is_independent_set(x_comb):\n",
    "                    x_cliques.append(x_comb)\n",
    "\n",
    "            for y_comb in itertools.combinations(ys_, t):\n",
    "                if H.is_independent_set(y_comb):\n",
    "                    y_cliques.append(y_comb)\n",
    "\n",
    "            for x_comb in x_cliques:\n",
    "                for y_comb in y_cliques:\n",
    "                    output.append( ( (), x_comb, y_comb ) )\n",
    "            \n",
    "            return output\n",
    "\n",
    "    rst_IS += indepHelper(3, 1, 1, VK, xs, ys)\n",
    "    rst_IS += indepHelper(2, 1, 2, VK, xs, ys)\n",
    "    rst_IS += indepHelper(2, 2, 1, VK, xs, ys)\n",
    "    rst_IS += indepHelper(1, 1, 3, VK, xs, ys)\n",
    "    rst_IS += indepHelper(1, 2, 2, VK, xs, ys)\n",
    "    rst_IS += indepHelper(1, 3, 1, VK, xs, ys)\n",
    "    rst_IS += indepHelper(0, 2, 3, VK, xs, ys)\n",
    "    rst_IS += indepHelper(0, 3, 2, VK, xs, ys)\n",
    "    \n",
    "    return rst_IS"
   ]
  },
  {
   "cell_type": "markdown",
   "id": "9c2245ef",
   "metadata": {},
   "source": [
    "Example usage"
   ]
  },
  {
   "cell_type": "code",
   "execution_count": null,
   "id": "5e8cedd3",
   "metadata": {},
   "outputs": [],
   "source": [
    "output = get_rst_independent_sets(G, \"a\", H, \"b\", K)\n",
    "print(len(output))\n",
    "for i in output:\n",
    "    print(i)"
   ]
  },
  {
   "cell_type": "markdown",
   "id": "ddc78a20",
   "metadata": {},
   "source": [
    "# Second, a method that turns constraints on M into a SAT instance.  "
   ]
  },
  {
   "cell_type": "markdown",
   "id": "72034df7",
   "metadata": {},
   "source": [
    "A very popular question in computer science is the *SATisfiability problem* which asks: how do you determine if a boolean formula (on n boolean variables) has an assignment of the variables that makes the formula true. Our formulas tend to be of the following form \n",
    "\n",
    "(x_1 OR x_2 OR ... x_k) AND (y_1 OR y_2 OR ... y_k) AND ... AND (z_1 OR z_2 OR ... OR z_k)\n",
    "\n",
    "It turns out SAT is an NP hard problem! But SAT solving is such a common instance in computer science, there's a whole host of results and algorithms on it. "
   ]
  },
  {
   "cell_type": "markdown",
   "id": "60c815eb",
   "metadata": {},
   "source": [
    "We have a bunch of 0, 1 variables in a matrix M which needs to satisfy certain constraints (dictated by the rst cliques and indpendent sets). This is an excerpt from the paper: \n",
    "\n",
    "` Each entry m_ij of M is a variable, with value FALSE, TRUE or UNKNOWN, while each set {x1, . . . , xs} × {y1, . . . , yt} is a clause. Clauses from potential (r, s, t)-cliques can’t have all their variables TRUE, while clauses from potential independent (r, s, t)-sets can’t have all their variables FALSE.`\n",
    " \n",
    "In other words, each rst clique / independent set exactly corresponds to a clause in our SAT formula! So, finding all the possible matrices M amounts to finding all the satisfying assignments of a certain formula. "
   ]
  },
  {
   "cell_type": "code",
   "execution_count": null,
   "id": "011de144",
   "metadata": {},
   "outputs": [],
   "source": [
    "# Description: Takes two pointed graphs and creates a SAT formula encoding the constraints a glueing defined by M must satisfy. \n",
    "# Input: Two pointed graphs (variables names according to notation in paper)\n",
    "# Output: A list of clauses, along with maps from vertices of G and H to indices for the matrix M\n",
    "import GluingClasses as gc\n",
    "\n",
    "def create_SAT_formula(G, a, H, b, K):\n",
    "    rst_cliques = get_rst_cliques(G, a, H, b, K)\n",
    "    rst_IS = get_rst_independent_sets(G, a, H, b, K)\n",
    "\n",
    "    VK = K.vertices()\n",
    "    xs = (set(G.vertices()) - set(VK))\n",
    "    xs.remove(a)\n",
    "    g_map = {}\n",
    "    i = 0\n",
    "    for x in xs:\n",
    "        g_map[x] = i\n",
    "        i += 1\n",
    "\n",
    "    ys = (set(H.vertices()) - set(VK))\n",
    "    ys.remove(b)\n",
    "    h_map = {}\n",
    "    i = 0\n",
    "    for y in ys:\n",
    "        h_map[y] = i\n",
    "        i += 1\n",
    "\n",
    "    d_prime = 23 - len(VK)\n",
    "    M = gc.PotentialEdgeMatrix(d_prime, d_prime)\n",
    "    clauses = []\n",
    "\n",
    "    for clique in rst_cliques:\n",
    "        g_vertices = clique[1]\n",
    "        h_vertices = clique[2]\n",
    "        variables = []\n",
    "        for g_vertex in g_vertices:\n",
    "            for h_vertex in h_vertices:\n",
    "                variables.append(M.matrix[g_map[g_vertex]][h_map[h_vertex]])\n",
    "        new_clause = gc.Clause(variables, True)\n",
    "        clauses.append(new_clause)\n",
    "\n",
    "    for indep_set in rst_IS:\n",
    "        g_vertices = clique[1]\n",
    "        h_vertices = clique[2]\n",
    "        variables = []\n",
    "        for g_vertex in g_vertices:\n",
    "            for h_vertex in h_vertices:\n",
    "                variables.append(M.matrix[g_map[g_vertex]][h_map[h_vertex]])\n",
    "        new_clause = gc.Clause(variables, False)\n",
    "        clauses.append(new_clause)\n",
    "    \n",
    "    return clauses, M, g_map, h_map"
   ]
  },
  {
   "cell_type": "markdown",
   "id": "b21a3cdf",
   "metadata": {},
   "source": [
    "Example usage"
   ]
  },
  {
   "cell_type": "code",
   "execution_count": null,
   "id": "63a4abf6",
   "metadata": {},
   "outputs": [],
   "source": [
    "clauses, M, g_map, h_map = create_SAT_formula(G, \"a\", H, \"b\", K)\n",
    "rst_cliques = get_rst_cliques(G, \"a\", H, \"b\", K)\n",
    "rst_IS = get_rst_independent_sets(G, \"a\", H, \"b\", K)\n",
    "print(clauses[0])\n",
    "print(rst_cliques[0])\n",
    "print(g_map)\n",
    "print(h_map)\n",
    "print(len(clauses) == len(rst_cliques) + len(rst_IS))"
   ]
  },
  {
   "cell_type": "markdown",
   "id": "678b0115",
   "metadata": {},
   "source": [
    "Once we have the SAT formula, we have to find all the satisfying assignments! Is there a Sage method which will just do this for us? Most likely (there are many SAT solvers out there). "
   ]
  },
  {
   "cell_type": "code",
   "execution_count": null,
   "id": "06a033dd",
   "metadata": {},
   "outputs": [],
   "source": [
    "def get_SAT_assignments(formula):\n",
    "    assignments = []\n",
    "    \n",
    "    # Implement method here.\n",
    "    \n",
    "    return assignemnts "
   ]
  },
  {
   "cell_type": "markdown",
   "id": "2ec42e33",
   "metadata": {},
   "source": [
    "## Step three: Return the gluing based on the solutions generated above. "
   ]
  },
  {
   "cell_type": "code",
   "execution_count": null,
   "id": "cb13b6e8",
   "metadata": {},
   "outputs": [],
   "source": [
    "# Description: We will use a matrix M to glue two pointed graphs together. \n",
    "# Input: Two pointed graphs (G, a) and (H, b) as well as a d' x d' matrix M. \n",
    "# Output: A graph, based on glueing along M. \n",
    "def glue(G, a, H, b, M): \n",
    "    glued_graph = Graph()\n",
    "    \n",
    "    return glued_graph"
   ]
  }
 ],
 "metadata": {
  "kernelspec": {
   "display_name": "SageMath 9.0",
   "language": "sage",
   "name": "sagemath"
  },
  "language_info": {
   "codemirror_mode": {
    "name": "ipython",
    "version": 3
   },
   "file_extension": ".py",
   "mimetype": "text/x-python",
   "name": "python",
   "nbconvert_exporter": "python",
   "pygments_lexer": "ipython3",
   "version": "3.8.10"
  },
  "vscode": {
   "interpreter": {
    "hash": "31f2aee4e71d21fbe5cf8b01ff0e069b9275f58929596ceb00d14d90e3e16cd6"
   }
  }
 },
 "nbformat": 4,
 "nbformat_minor": 5
}
