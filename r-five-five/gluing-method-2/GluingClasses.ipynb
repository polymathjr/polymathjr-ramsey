{
 "cells": [
  {
   "cell_type": "markdown",
   "id": "4cca82d6",
   "metadata": {},
   "source": [
    "# Classes used for Gluing Method 2"
   ]
  },
  {
   "cell_type": "markdown",
   "id": "d5132a39",
   "metadata": {},
   "source": [
    "This simply contains the data types used for gluing method 2. Namely: Clauses, PotentialEdges (called variables in paper) and EdgeExists (possible values for the variables)."
   ]
  },
  {
   "cell_type": "code",
   "execution_count": null,
   "id": "0312c526",
   "metadata": {
    "vscode": {
     "languageId": "python"
    }
   },
   "outputs": [],
   "source": [
    "# Create an enum to represent the different values that a variable/PotentialEdge can take:\n",
    "import enum\n",
    "class EdgeExists(enum.Enum):\n",
    "    UNKNOWN = 0\n",
    "    TRUE = 1\n",
    "    FALSE = 2"
   ]
  },
  {
   "cell_type": "markdown",
   "id": "b2d1ce20",
   "metadata": {},
   "source": [
    "Now we can define a class to represent the variables from the paper, which we call PotentialEdges."
   ]
  },
  {
   "cell_type": "code",
   "execution_count": null,
   "id": "fb9a81b7",
   "metadata": {
    "vscode": {
     "languageId": "python"
    }
   },
   "outputs": [],
   "source": [
    "class PotentialEdge:\n",
    "    \n",
    "    # Construct a new PotentialEdge between vertex G_vert in G and H_vert in H\n",
    "    def __init__(self, G_vert, H_vert):\n",
    "        # Set variables\n",
    "        self.G_vertex = G_vert\n",
    "        self.H_vertex = H_vert\n",
    "        # Set current value of the variable\n",
    "        self.exists = EdgeExists.UNKNOWN\n",
    "        # Create sets of clique clauses and independent-set clauses\n",
    "        self.clique_clauses = []\n",
    "        self.ind_set_clauses = []\n",
    "\n",
    "    def __str__(self):\n",
    "        if self.exists == EdgeExists.UNKNOWN:\n",
    "            return \"(\"+str(self.G_vertex) + \",\" + str(self.H_vertex)+ \",\" + \"U)\"\n",
    "        elif self.exists == EdgeExists.TRUE:\n",
    "            return \"(\"+str(self.G_vertex) + \",\" + str(self.H_vertex)+ \",\" + \"T)\"\n",
    "        else:\n",
    "            return \"(\"+str(self.G_vertex) + \",\" + str(self.H_vertex)+ \",\" + \"F)\"\n",
    "    \n",
    "    \n",
    "    # Set the value of the variable\n",
    "    # NOTE: This should only be used when we change the value from UNKNOWN to TRUE or FALSE\n",
    "    # INPUT: new_value for exists to be set to\n",
    "    def set_exists(self, new_value):\n",
    "        self.exists = new_value\n",
    "        # Decrease the number of unknown for each clause this variable is in\n",
    "        for clause in self.clique_clauses:\n",
    "            clause.decr_num_unknown(new_value)\n",
    "        for clause in self.ind_set_clauses:\n",
    "            clause.decr_num_unknown(new_value)\n",
    "    \n",
    "    \n",
    "    # Add a clause that the variable is in\n",
    "    # INPUT: a clause that this variable is in and that should be added to it's list,\n",
    "    #        a boolean that is true if the clause is a clique clause and false if it is an independent-set clause\n",
    "    def add_clause(self, clause, clique_clause):\n",
    "        if clique_clause:\n",
    "            self.clique_clauses.append(clause)\n",
    "        else:\n",
    "            self.ind_set_clauses.append(clause)"
   ]
  },
  {
   "cell_type": "markdown",
   "id": "f33dca4e",
   "metadata": {},
   "source": [
    "Next we define a class representing the clauses."
   ]
  },
  {
   "cell_type": "code",
   "execution_count": null,
   "id": "eef55264",
   "metadata": {
    "vscode": {
     "languageId": "python"
    }
   },
   "outputs": [],
   "source": [
    "class Clause:\n",
    "    \n",
    "    # Construct a new Clause\n",
    "    # INPUT: a list of PotentialEdges/variables that are contained in this Clause\n",
    "    #        a boolean that is True if the clause is a clique clause and False if it is an independent-set clause\n",
    "    def __init__(self, variables, clique_clause):\n",
    "        # Set variables\n",
    "        self.potential_edges = variables\n",
    "        self.num_unknown = len(variables)\n",
    "        self.clique_clause = clique_clause\n",
    "        # Number of variables whose value is undesired \n",
    "        #        (i.e. number of TRUEs if it's a clique clause, FALSEs if an independent set clause)\n",
    "        self.num_undesired = 0\n",
    "        \n",
    "        # Add clauses to each potential edge\n",
    "        for pot_edge in variables:\n",
    "            pot_edge.add_clause(self, clique_clause)\n",
    "\n",
    "    def __str__(self):\n",
    "        output = \"\"\n",
    "        for var in self.potential_edges:\n",
    "            output += str(var) + \", \"\n",
    "        output += str(self.clique_clause)\n",
    "        return output\n",
    "    \n",
    "    \n",
    "    # Decrease the number of unknowns, called when a PotentialEdge's value goes from UNKNOWN to TRUE or FALSE\n",
    "    # INPUT: the new value that the PotentialEdge was changed to\n",
    "    def decr_num_unknown(self, new_value):\n",
    "        # Decrease the number of unknowns by 1\n",
    "        self.num_unknown -= 1\n",
    "        # Update number of variables with undesired value\n",
    "        if self.clique_clause and new_value == EdgeExists.TRUE:\n",
    "            self.num_undesired += 1\n",
    "        elif not self.clique_clause and new_value == EdgeExists.FALSE:\n",
    "            self.num_undesired += 1\n",
    "    \n",
    "    # Determine whether all PotentialEdges in the clause are set to a value (i.e. are not UNKNOWN)\n",
    "    # OUTPUT: a boolean, True if there are no UNKNOWNs, False otherwise\n",
    "    def is_full(self):\n",
    "        return self.num_unknown == 0\n",
    "    \n",
    "    # Determine whether the clique causes a FAIL state\n",
    "    #       i.e. if all variables are TRUE when this is a clique clause or all variables FALSE when this is an independent set clause\n",
    "    # OUTPUT: a boolean, True if in a FAIL state, False otherwise\n",
    "    def in_fail_state(self):\n",
    "        return self.num_unknown == 0 and self.num_undesired == len(self.potential_edges)"
   ]
  },
  {
   "cell_type": "markdown",
   "id": "95543f89",
   "metadata": {},
   "source": [
    "Finally, we define a class to represent the matrix of variables as described on page 7."
   ]
  },
  {
   "cell_type": "code",
   "execution_count": null,
   "id": "484b22ff",
   "metadata": {
    "vscode": {
     "languageId": "python"
    }
   },
   "outputs": [],
   "source": [
    "class PotentialEdgeMatrix:\n",
    "    \n",
    "    # Construct a new Matrix of Potential Edges as described in the paper\n",
    "    # INPUT: num_rows = |VG|-|VK|-1, num_cols = |VH|-|VK|-1\n",
    "    def __init__(self, num_rows, num_cols):\n",
    "        # Create the matrix\n",
    "        # NOTE: Should probably change to a more efficient data structure, since python lists are LinkedLists\n",
    "        self.matrix = []\n",
    "        for row in range(0, num_rows):\n",
    "            current_row = []\n",
    "            for col in range(0, num_cols):\n",
    "                current_row.append(PotentialEdge(row, col))\n",
    "            self.matrix.append(current_row)\n",
    "    \n",
    "    def __str__(self):\n",
    "        output = \"[\"\n",
    "        for list in self.matrix:\n",
    "            output += \"[\"\n",
    "            for elem in list:\n",
    "                output += str(elem)\n",
    "                output += \", \"\n",
    "            output += \"],\"\n",
    "        output += \"]\"\n",
    "\n",
    "        return output"
   ]
  },
  {
   "cell_type": "markdown",
   "id": "e09650da",
   "metadata": {},
   "source": [
    "Some tests to make sure the classes are working as intended:"
   ]
  },
  {
   "cell_type": "code",
   "execution_count": null,
   "id": "0d2c1279",
   "metadata": {
    "vscode": {
     "languageId": "python"
    }
   },
   "outputs": [],
   "source": [
    "testMatrix = PotentialEdgeMatrix(2, 2)\n",
    "testEdge1 = testMatrix.matrix[0][0]\n",
    "testEdge2 = testMatrix.matrix[0][1]\n",
    "testEdge3 = testMatrix.matrix[1][0]\n",
    "testClause1 = Clause([testEdge1, testEdge2], True)\n",
    "testClause2 = Clause([testEdge1, testEdge3], False)\n",
    "\n",
    "print(\"Clause 1 starts with %s unknowns\" % (testClause1.num_unknown))\n",
    "print(\"Clause 2 starts with %s unknowns\" % (testClause2.num_unknown))\n",
    "\n",
    "print(\"Setting first potential edge to FALSE\")\n",
    "testEdge1.set_exists(EdgeExists.FALSE)\n",
    "\n",
    "print(\"Afterwards there are %s unknowns and %s undesired variables in Clause 1\" \n",
    "      % (testClause1.num_unknown, testClause1.num_undesired))\n",
    "print(\"Afterwards there are %s unknowns and %s undesired variables in Clause 2\" \n",
    "      % (testClause2.num_unknown, testClause2.num_undesired))\n",
    "\n",
    "print(\"Setting other two potential edges, should keep Clause 1 ok, but put Clause 2 into a FAIL state\")\n",
    "testEdge2.set_exists(EdgeExists.TRUE)\n",
    "testEdge3.set_exists(EdgeExists.FALSE)\n",
    "testMatrix.matrix[1][1].set_exists(EdgeExists.TRUE)\n",
    "\n",
    "print(\"Afterwards there are %s unknowns and %s undesired variables in Clause 1\" \n",
    "      % (testClause1.num_unknown, testClause1.num_undesired))\n",
    "print(\"Afterwards there are %s unknowns and %s undesired variables in Clause 2\" \n",
    "      % (testClause2.num_unknown, testClause2.num_undesired))\n",
    "print(\"Is Clause 1 in a fail state? %s\" % (testClause1.in_fail_state()))\n",
    "print(\"Is Clause 2 in a fail state? %s\" % (testClause2.in_fail_state()))"
   ]
  },
  {
   "cell_type": "code",
   "execution_count": null,
   "id": "7416796f",
   "metadata": {
    "vscode": {
     "languageId": "python"
    }
   },
   "outputs": [],
   "source": []
  }
 ],
 "metadata": {
  "kernelspec": {
   "display_name": "SageMath 9.0",
   "language": "sage",
   "name": "sagemath"
  },
  "language_info": {
   "codemirror_mode": {
    "name": "ipython",
    "version": 3
   },
   "file_extension": ".py",
   "mimetype": "text/x-python",
   "name": "sage",
   "nbconvert_exporter": "python",
   "pygments_lexer": "ipython3",
   "version": "3.9.13"
  }
 },
 "nbformat": 4,
 "nbformat_minor": 5
}
