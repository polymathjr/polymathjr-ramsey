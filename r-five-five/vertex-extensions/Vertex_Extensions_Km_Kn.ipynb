{
 "cells": [
  {
   "cell_type": "markdown",
   "id": "6c6f9ac0",
   "metadata": {},
   "source": [
    "# Vertex Extensions Staying in R(K<sub>m</sub>, K<sub>n</sub>)"
   ]
  },
  {
   "cell_type": "markdown",
   "id": "933afa5f",
   "metadata": {},
   "source": [
    "Based on the vertex extension method in the [R(4,5) paper](https://www.cs.rit.edu/~spr/PUBL/paper32.pdf). This notebook will contain the function for extending a graph in R(K<sub>m</sub>, K<sub>n</sub>) by one vertex, while staying in R(K<sub>m</sub>, K<sub>n</sub>)."
   ]
  },
  {
   "cell_type": "markdown",
   "id": "4883b20d",
   "metadata": {},
   "source": [
    "First, we define a class to represent Intervals as described on page "
   ]
  }
 ],
 "metadata": {
  "kernelspec": {
   "display_name": "SageMath 9.5",
   "language": "sage",
   "name": "sagemath"
  },
  "language_info": {
   "codemirror_mode": {
    "name": "ipython",
    "version": 3
   },
   "file_extension": ".py",
   "mimetype": "text/x-python",
   "name": "python",
   "nbconvert_exporter": "python",
   "pygments_lexer": "ipython3",
   "version": "3.9.13"
  }
 },
 "nbformat": 4,
 "nbformat_minor": 5
}
