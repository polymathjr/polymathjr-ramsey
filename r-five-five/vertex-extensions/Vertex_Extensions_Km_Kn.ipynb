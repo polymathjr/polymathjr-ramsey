{
 "cells": [
  {
   "cell_type": "markdown",
   "id": "5a406772",
   "metadata": {},
   "source": [
    "# Vertex Extensions Staying in R(K<sub>m</sub>, K<sub>n</sub>)"
   ]
  },
  {
   "cell_type": "markdown",
   "id": "4d2f77db",
   "metadata": {},
   "source": [
    "Based on the vertex extension method in the [R(4,5) paper](https://www.cs.rit.edu/~spr/PUBL/paper32.pdf). This notebook will contain the function for extending a graph in R(K<sub>m</sub>, K<sub>n</sub>) by one vertex, while staying in R(K<sub>m</sub>, K<sub>n</sub>)."
   ]
  },
  {
   "cell_type": "markdown",
   "id": "6c2b248d",
   "metadata": {},
   "source": [
    "First, we define a class to represent Intervals as described on page 4 of the R(4,5) paper."
   ]
  },
  {
   "cell_type": "code",
   "execution_count": 22,
   "id": "ae5c89ff",
   "metadata": {},
   "outputs": [],
   "source": [
    "class Interval:\n",
    "    \n",
    "    # Construct a new interval with bottom_verts as the bottom and top_verts as the top\n",
    "    def __init__(self, bottom_verts, top_verts):\n",
    "        self.bottom = bottom_verts\n",
    "        self.top = top_verts\n",
    "        \n",
    "    # Get interval as a string\n",
    "    def __str__(self):\n",
    "        as_string = \"{\"\n",
    "        for vert in self.bottom:\n",
    "            as_string += str(vert) + \",\"\n",
    "        as_string += \"}, {\"\n",
    "        for vert in self.top:\n",
    "            as_string += str(vert) + \",\"\n",
    "        as_string += \"}\"\n",
    "        return as_string"
   ]
  },
  {
   "cell_type": "markdown",
   "id": "6ffcfe21",
   "metadata": {},
   "source": [
    "We can now move on to the actual vertex extension function. This is based on the pseudocode given on page 9 of the R(4,5) paper."
   ]
  },
  {
   "cell_type": "code",
   "execution_count": 17,
   "id": "5965014c",
   "metadata": {},
   "outputs": [],
   "source": [
    "# Finds all possible one vertex extensions to G while staying in R(Km,Kn)\n",
    "# INPUT: a graph G to be extended, m the undesired clique size and n the undesired independent set size\n",
    "# OUTPUT: a set of intervals whose union forms every possible neighborhood of the new vertex\n",
    "def find_extensions(G, m, n):\n",
    "    \n",
    "    undesired_list = list(sage.graphs.cliquer.all_cliques(G, m - 1, m - 1))\n",
    "    undesired_list += list(sage.graphs.cliquer.all_cliques(G.complement(), n - 1, n - 1))\n",
    "    \n",
    "    # Should order undesired_list based on the description in the R(4,5) paper\n",
    "    \n",
    "    viable_intervals = [Interval([],G.vertices())]\n",
    "    \n",
    "    \n",
    "    \n",
    "    return viable_intervals"
   ]
  },
  {
   "cell_type": "markdown",
   "id": "48db3aa8",
   "metadata": {},
   "source": [
    "Some basic tests of the method:"
   ]
  },
  {
   "cell_type": "code",
   "execution_count": 23,
   "id": "a471dad5",
   "metadata": {},
   "outputs": [
    {
     "data": {
      "image/png": "[encoded data removed]",
      "text/plain": [
       "Graphics object consisting of 14 graphics primitives"
      ]
     },
     "metadata": {},
     "output_type": "display_data"
    },
    {
     "data": {
      "text/plain": [
       "'{}, {0,1,2,3,4,5,}'"
      ]
     },
     "execution_count": 23,
     "metadata": {},
     "output_type": "execute_result"
    }
   ],
   "source": [
    "G = graphs.EmptyGraph()\n",
    "for i in range(0, 5):\n",
    "    G.add_edge(i, i+1)\n",
    "G.add_edge(0, 5)\n",
    "G.add_edge(0, 2)\n",
    "G.show()\n",
    "extensions = find_extensions(G, 4, 4)\n",
    "str(extensions[0])"
   ]
  },
  {
   "cell_type": "code",
   "execution_count": null,
   "id": "309e6abe",
   "metadata": {},
   "outputs": [],
   "source": []
  }
 ],
 "metadata": {
  "kernelspec": {
   "display_name": "SageMath 9.5",
   "language": "sage",
   "name": "sagemath"
  },
  "language_info": {
   "codemirror_mode": {
    "name": "ipython",
    "version": 3
   },
   "file_extension": ".py",
   "mimetype": "text/x-python",
   "name": "python",
   "nbconvert_exporter": "python",
   "pygments_lexer": "ipython3",
   "version": "3.9.13"
  }
 },
 "nbformat": 4,
 "nbformat_minor": 5
}
