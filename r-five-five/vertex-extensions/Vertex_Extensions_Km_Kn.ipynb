{
 "cells": [
  {
   "cell_type": "markdown",
   "id": "7b93d181",
   "metadata": {},
   "source": [
    "# Vertex Extensions Staying in R(K<sub>m</sub>, K<sub>n</sub>)"
   ]
  },
  {
   "cell_type": "markdown",
   "id": "78294e79",
   "metadata": {},
   "source": [
    "Based on the vertex extension method in the [R(4,5) paper](https://www.cs.rit.edu/~spr/PUBL/paper32.pdf). This notebook will contain the function for extending a graph in R(K<sub>m</sub>, K<sub>n</sub>) by one vertex, while staying in R(K<sub>m</sub>, K<sub>n</sub>)."
   ]
  },
  {
   "cell_type": "markdown",
   "id": "3f4a142d",
   "metadata": {},
   "source": [
    "First, we define a class to represent Intervals as described on page 4 of the R(4,5) paper."
   ]
  },
  {
   "cell_type": "code",
   "execution_count": 22,
   "id": "7f55becd",
   "metadata": {},
   "outputs": [],
   "source": [
    "class Interval:\n",
    "    \n",
    "    # Construct a new interval with bottom_verts as the bottom and top_verts as the top\n",
    "    def __init__(self, bottom_verts, top_verts):\n",
    "        self.bottom = bottom_verts\n",
    "        self.top = top_verts\n",
    "        \n",
    "    # Get interval as a string\n",
    "    def __str__(self):\n",
    "        as_string = \"{\"\n",
    "        for vert in self.bottom:\n",
    "            as_string += str(vert) + \",\"\n",
    "        as_string += \"}, {\"\n",
    "        for vert in self.top:\n",
    "            as_string += str(vert) + \",\"\n",
    "        as_string += \"}\"\n",
    "        return as_string"
   ]
  },
  {
   "cell_type": "markdown",
   "id": "7a711e40",
   "metadata": {},
   "source": [
    "We can now move on to the actual vertex extension function. This is based on the pseudocode given on page 9 of the R(4,5) paper."
   ]
  },
  {
   "cell_type": "code",
   "execution_count": 148,
   "id": "c1ddf065",
   "metadata": {},
   "outputs": [],
   "source": [
    "import copy\n",
    "\n",
    "# Finds all possible one vertex extensions to G while staying in R(Km,Kn)\n",
    "# INPUT: a graph G to be extended, m the undesired clique size and n the undesired independent set size\n",
    "# OUTPUT: a set of intervals whose union forms every possible neighborhood of the new vertex\n",
    "def find_extensions(G, m, n):\n",
    "    \n",
    "    # Get cliques and independent sets of desired size\n",
    "    clique_list = list(sage.graphs.cliquer.all_cliques(G, m - 1, m - 1))\n",
    "    ind_set_list = list(sage.graphs.cliquer.all_cliques(G.complement(), n - 1, n - 1))\n",
    "    \n",
    "    # Should merge clique_list and ind_set_list and order them based on the description in the R(4,5) paper\n",
    "    \n",
    "    # Create initial interval\n",
    "    viable_intervals = [Interval([],G.vertices())]\n",
    "    \n",
    "    # Iterate through the cliques\n",
    "    for clique in clique_list:\n",
    "        \n",
    "        clique_as_set = set(clique)\n",
    "        new_intervals = viable_intervals.copy()\n",
    "        \n",
    "        for interval in viable_intervals:\n",
    "            if clique_as_set.issubset(interval.top):\n",
    "                # We always remove the given interval\n",
    "                new_intervals.remove(interval)\n",
    "                # Check if we need to find replacements\n",
    "                if not clique_as_set.issubset(interval.bottom):\n",
    "                    # Find Xi - B\n",
    "                    ys = []\n",
    "                    for vert in clique:\n",
    "                        if not vert in interval.bottom:\n",
    "                            ys.append(vert)\n",
    "                    # Find replacement intervals and add them to the list\n",
    "                    for j in range(0, len(ys)):\n",
    "                        # Create copy of bottom and top\n",
    "                        new_bottom = []\n",
    "                        new_top = []\n",
    "                        for vert in interval.bottom:\n",
    "                            new_bottom.append(vert)\n",
    "                        for vert in interval.top:\n",
    "                            # Don't include yj\n",
    "                            if not vert == ys[j]:\n",
    "                                new_top.append(vert)\n",
    "                        # Add y1,...,yj-1 elements to the bottom\n",
    "                        for k in range(0, j):\n",
    "                            new_bottom.append(ys[k])\n",
    "                        # Add our new interval to the list\n",
    "                        new_intervals.append(Interval(new_bottom, new_top))\n",
    "        # Replace the old list of intervals with our new list of intervals\n",
    "        viable_intervals = new_intervals\n",
    "        \n",
    "        \n",
    "    # Iterate through the independent sets\n",
    "    for ind_set in ind_set_list:\n",
    "        \n",
    "        ind_set_as_set = set(ind_set)\n",
    "        new_intervals = viable_intervals.copy()\n",
    "        \n",
    "        for interval in viable_intervals:\n",
    "            if not ind_set_as_set & set(interval.bottom):\n",
    "                # We always remove the given interval\n",
    "                new_intervals.remove(interval)\n",
    "                # Check if we need to find replacements\n",
    "                if ind_set_as_set & set(interval.top):\n",
    "                    # Find Xi intersect T\n",
    "                    ys = []\n",
    "                    for vert in ind_set:\n",
    "                        if vert in interval.top:\n",
    "                            ys.append(vert)\n",
    "                    # Find replacement intervals and add them to the list\n",
    "                    for j in range(0, len(ys)):\n",
    "                        # Create copies of bottom and top\n",
    "                        new_bottom = []\n",
    "                        new_top = []\n",
    "                        for vert in interval.bottom:\n",
    "                            new_bottom.append(vert)\n",
    "                        # Add yj to bottom\n",
    "                        new_bottom.append(ys[j])\n",
    "                        for vert in interval.top:\n",
    "                            new_top.append(vert)\n",
    "                        # Remove \n",
    "                        for k in range(0, j):\n",
    "                            new_top.remove(ys[k])\n",
    "                        new_intervals.append(Interval(new_bottom, new_top))\n",
    "        viable_intervals = new_intervals\n",
    "            \n",
    "    # We \n",
    "    \n",
    "    return viable_intervals"
   ]
  },
  {
   "cell_type": "markdown",
   "id": "fead97ff",
   "metadata": {},
   "source": [
    "Some basic tests of the method:"
   ]
  },
  {
   "cell_type": "code",
   "execution_count": 149,
   "id": "dadfaf23",
   "metadata": {},
   "outputs": [
    {
     "data": {
      "image/png": "[encoded data removed]",
      "text/plain": [
       "Graphics object consisting of 14 graphics primitives"
      ]
     },
     "metadata": {},
     "output_type": "display_data"
    },
    {
     "name": "stdout",
     "output_type": "stream",
     "text": [
      "{0,1,}, {0,1,3,4,5,}\n",
      "{1,}, {1,2,3,4,5,}\n",
      "{3,}, {2,3,4,5,}\n",
      "{5,}, {2,4,5,}\n",
      "{0,3,}, {0,2,3,4,5,}\n",
      "{0,5,}, {0,2,4,5,}\n"
     ]
    }
   ],
   "source": [
    "G = graphs.EmptyGraph()\n",
    "for i in range(0, 5):\n",
    "    G.add_edge(i, i+1)\n",
    "G.add_edge(0, 5)\n",
    "G.add_edge(0, 2)\n",
    "#G.add_edge(3, 5)\n",
    "G.show()\n",
    "extensions = find_extensions(G, 4, 4)\n",
    "for interval in extensions:\n",
    "    print(str(interval))"
   ]
  },
  {
   "cell_type": "code",
   "execution_count": null,
   "id": "76d4a481",
   "metadata": {},
   "outputs": [],
   "source": []
  }
 ],
 "metadata": {
  "kernelspec": {
   "display_name": "SageMath 9.5",
   "language": "sage",
   "name": "sagemath"
  },
  "language_info": {
   "codemirror_mode": {
    "name": "ipython",
    "version": 3
   },
   "file_extension": ".py",
   "mimetype": "text/x-python",
   "name": "python",
   "nbconvert_exporter": "python",
   "pygments_lexer": "ipython3",
   "version": "3.9.13"
  }
 },
 "nbformat": 4,
 "nbformat_minor": 5
}
