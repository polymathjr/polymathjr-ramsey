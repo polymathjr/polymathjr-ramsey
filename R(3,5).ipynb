{
 "cells": [
  {
   "cell_type": "code",
   "execution_count": 1,
   "id": "c708fde9",
   "metadata": {},
   "outputs": [
    {
     "data": {
      "text/plain": [
       "Finite Field in c of size 2^12"
      ]
     },
     "execution_count": 1,
     "metadata": {},
     "output_type": "execute_result"
    }
   ],
   "source": [
    "n = 6\n",
    "k2.<c> = GF(2^(2*n),modulus='primitive')\n",
    "k2"
   ]
  },
  {
   "cell_type": "code",
   "execution_count": 2,
   "id": "634766a6",
   "metadata": {},
   "outputs": [
    {
     "name": "stdout",
     "output_type": "stream",
     "text": [
      "13\n"
     ]
    }
   ],
   "source": [
    "# Define inner product and multiplicative subgroup\n",
    "v = 13\n",
    "gen = c^int((2^(2*n)-1)/v)\n",
    "def ip(x,y):\n",
    "    return (y*x^(2^n)).trace()\n",
    "sub = [gen^i for i in range(v)]\n",
    "print(len(sub))"
   ]
  },
  {
   "cell_type": "code",
   "execution_count": 3,
   "id": "8858c9ab",
   "metadata": {},
   "outputs": [],
   "source": [
    "# Test different inner products and record results\n",
    "res = []\n",
    "for num in range(2^n-1):\n",
    "    def ip(x,y):\n",
    "        return (c^((2^n+1)*num)*y*x^(2^n)).trace()\n",
    "    adj = {}\n",
    "    for i in sub:\n",
    "        adj[i] = []\n",
    "    for i in sub:\n",
    "        for j in sub:\n",
    "            if i != j and ip(i,j) != 0:\n",
    "                adj[i].append(j)\n",
    "    g = Graph(adj)\n",
    "    res.append((g.clique_number(), g.complement().clique_number()))"
   ]
  },
  {
   "cell_type": "code",
   "execution_count": 4,
   "id": "153cd011",
   "metadata": {},
   "outputs": [
    {
     "name": "stdout",
     "output_type": "stream",
     "text": [
      "no 0\n",
      "1 13\n",
      "2 4\n",
      "3 3\n",
      "no 4\n",
      "no 5\n",
      "no 6\n",
      "no 7\n",
      "no 8\n",
      "no 9\n",
      "no 10\n",
      "no 11\n"
     ]
    }
   ],
   "source": [
    "# Print results\n",
    "for i in range(12):\n",
    "    temp = [x for x in res if min(x[0],x[1]) == i]\n",
    "    if not temp:\n",
    "        print(\"no\", i)\n",
    "    else:\n",
    "        theBest = min(map(lambda x: max(x[0],x[1]), temp))\n",
    "        print(i, theBest)"
   ]
  },
  {
   "cell_type": "code",
   "execution_count": 6,
   "id": "15b7a65f",
   "metadata": {},
   "outputs": [
    {
     "data": {
      "text/plain": [
       "27"
      ]
     },
     "execution_count": 6,
     "metadata": {},
     "output_type": "execute_result"
    }
   ],
   "source": [
    "num = res.index((2,4))\n",
    "num"
   ]
  },
  {
   "cell_type": "code",
   "execution_count": 8,
   "id": "284c3939",
   "metadata": {},
   "outputs": [
    {
     "name": "stdout",
     "output_type": "stream",
     "text": [
      "13 2 4\n"
     ]
    }
   ],
   "source": [
    "# Verify result\n",
    "def ip(x,y):\n",
    "    return (c^((2^n+1)*num)*y*x^(2^n)).trace()\n",
    "adj = {}\n",
    "for i in sub:\n",
    "    adj[i] = []\n",
    "for i in sub:\n",
    "    for j in sub:\n",
    "        if i != j and ip(i,j) != 0:\n",
    "            adj[i].append(j)\n",
    "g = Graph(adj)\n",
    "print(g.order(), g.clique_number(), g.complement().clique_number())"
   ]
  }
 ],
 "metadata": {
  "kernelspec": {
   "display_name": "SageMath 9.6",
   "language": "sage",
   "name": "sagemath"
  },
  "language_info": {
   "codemirror_mode": {
    "name": "ipython",
    "version": 3
   },
   "file_extension": ".py",
   "mimetype": "text/x-python",
   "name": "python",
   "nbconvert_exporter": "python",
   "pygments_lexer": "ipython3",
   "version": "3.10.5"
  }
 },
 "nbformat": 4,
 "nbformat_minor": 5
}
